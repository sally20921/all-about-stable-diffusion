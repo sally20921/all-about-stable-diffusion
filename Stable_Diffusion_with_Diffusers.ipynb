{
  "nbformat": 4,
  "nbformat_minor": 0,
  "metadata": {
    "colab": {
      "provenance": [],
      "authorship_tag": "ABX9TyPEE201Xyxbc5KqzVoOu0eM",
      "include_colab_link": true
    },
    "kernelspec": {
      "name": "python3",
      "display_name": "Python 3"
    },
    "language_info": {
      "name": "python"
    }
  },
  "cells": [
    {
      "cell_type": "markdown",
      "metadata": {
        "id": "view-in-github",
        "colab_type": "text"
      },
      "source": [
        "<a href=\"https://colab.research.google.com/github/sally20921/all-about-stable-diffusion/blob/main/Stable_Diffusion_with_Diffusers.ipynb\" target=\"_parent\"><img src=\"https://colab.research.google.com/assets/colab-badge.svg\" alt=\"Open In Colab\"/></a>"
      ]
    },
    {
      "cell_type": "markdown",
      "source": [
        "# Stable Diffusion with Diffusers\n",
        "\n",
        "<br />\n",
        "\n",
        "---\n",
        "\n",
        "\n",
        "\n",
        "## 📚 References\n",
        "* [hugging face blog on Stable Diffusion](https://huggingface.co/blog/stable_diffusion)\n",
        "* [Getting Started with Diffusers](https://colab.research.google.com/github/huggingface/notebooks/blob/main/diffusers/diffusers_intro.ipynb)\n",
        "* [The Annotated Diffusion Model](https://huggingface.co/blog/annotated-diffusion)\n",
        "\n",
        "<br />\n",
        "\n",
        "* [CompVis hugging face Space](https://huggingface.co/CompVis)\n",
        "\n",
        "\n",
        "\n",
        "---\n",
        "\n",
        "<br />\n",
        "\n",
        "\n",
        "## 🌺   Introduction: About Stable Diffusion\n",
        "\n",
        "<br />\n",
        "\n",
        "Stable diffusion is a text-to-image latent diffusion model created by the researchers and engineers from CompVis, Stability AI and LAION.\n",
        "\n",
        "**It is trained on $512 \\times 512$  images from a subset of the LAION-5B database.** LAION-5B is the largest, freely accessible multi-modal dataset that currently exists.\n",
        "\n",
        "<br />\n",
        "\n",
        "\n",
        "This post aims to demonstrate the following:\n",
        "\n",
        "\n",
        "*   how to use Stable Diffusion with the *Diffusers library*\n",
        "*   explains how the model works\n",
        "*   dive a bit deeper into how `diffusers` allows one to customize the image generation pipeline\n",
        "\n",
        "<br />\n",
        "\n",
        "## ❄ Running Stable Diffusion\n",
        "\n",
        "<br />\n",
        "\n",
        "\n",
        "---\n",
        "\n",
        "\n",
        "### 🛑 Caution About the License\n",
        "\n",
        "In order to download and use the model weights, [CompVis](https://huggingface.co/CompVis) group urges you to accept the model license. The important clauses are summarized as follows:\n",
        "\n",
        "\n",
        "\n",
        "---\n",
        "\n",
        "\n",
        "\n",
        "\n"
      ],
      "metadata": {
        "id": "_B_aB9d7P-Wg"
      }
    }
  ]
}